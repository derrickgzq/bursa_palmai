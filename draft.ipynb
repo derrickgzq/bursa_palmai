{
 "cells": [
  {
   "cell_type": "code",
   "execution_count": 37,
   "id": "628ee67d",
   "metadata": {},
   "outputs": [
    {
     "name": "stdout",
     "output_type": "stream",
     "text": [
      "Total rows: 2032\n",
      "                 X              Y   FID        UML_ID Group_Name  \\\n",
      "2027  1.116525e+07  152928.780816  2028  PO1000011910    UNKNOWN   \n",
      "2028  1.138313e+07  -49294.319729  2029  PO1000011911    UNKNOWN   \n",
      "2029  1.132490e+07  215410.869426  2030  PO1000011912    UNKNOWN   \n",
      "2030  1.217452e+07   40106.205537  2031  PO1000011913    UNKNOWN   \n",
      "2031  1.685138e+07 -638989.146403  2032  PO1000011914    UNKNOWN   \n",
      "\n",
      "                      Parent_Com                   Mill_Name  \\\n",
      "2027           MAHATO INTI SAWIT           MAHATO INTI SAWIT   \n",
      "2028  SAWIT JAYA MANDIRI LESTARI  SAWIT JAYA MANDIRI LESTARI   \n",
      "2029       SAWIT RUPAT SEJAHTERA       SAWIT RUPAT SEJAHTERA   \n",
      "2030                     GILFORD     GUNUNG RIJUAN SEJAHTERA   \n",
      "2031          AGUMIL PHILIPPINES                      MAMUSI   \n",
      "\n",
      "              RSPO_Statu RSPO_Type                    Date  ...   Longitude  \\\n",
      "2027  Not RSPO Certified            2021/07/14 00:00:00+00  ...  100.299131   \n",
      "2028  Not RSPO Certified            2021/07/14 00:00:00+00  ...  102.256371   \n",
      "2029  Not RSPO Certified            2021/07/14 00:00:00+00  ...  101.733319   \n",
      "2030  Not RSPO Certified            2021/07/14 00:00:00+00  ...  109.365606   \n",
      "2031  Not RSPO Certified            2021/07/14 00:00:00+00  ...  151.378485   \n",
      "\n",
      "                 GPS_coordi  GPS_coor_1  GPS_coor_2  ISO           Country  \\\n",
      "2027   1.373651, 100.299131  100.299131    1.373651  IDN         Indonesia   \n",
      "2028  -0.442814, 102.256371  102.256371   -0.442814  IDN         Indonesia   \n",
      "2029   1.934701, 101.733319  101.733319    1.934701  IDN         Indonesia   \n",
      "2030  0.3602778, 109.365606  109.365606    0.360278  IDN         Indonesia   \n",
      "2031  -5.730559, 151.378485  151.378485   -5.730559  PNG  Papua New Guinea   \n",
      "\n",
      "              Province        District        Confidence Alternativ  \n",
      "2027              Riau      Rokan Hulu  1-Fully verified             \n",
      "2028              Riau  Indragiri Hulu  1-Fully verified             \n",
      "2029              Riau       Bengkalis  1-Fully verified             \n",
      "2030  Kalimantan barat          Landak  1-Fully verified             \n",
      "2031  East new britain        Bairiman  1-Fully verified             \n",
      "\n",
      "[5 rows x 21 columns]\n"
     ]
    }
   ],
   "source": [
    "import pandas as pd\n",
    "\n",
    "df = pd.read_csv('universal_mill_list.csv')\n",
    "\n",
    "# Verify\n",
    "print(f\"Total rows: {len(df)}\")\n",
    "print(df.tail())"
   ]
  },
  {
   "cell_type": "code",
   "execution_count": 3,
   "id": "2d564691",
   "metadata": {},
   "outputs": [],
   "source": [
    "import sqlite3"
   ]
  },
  {
   "cell_type": "code",
   "execution_count": 38,
   "id": "85c14a38",
   "metadata": {},
   "outputs": [
    {
     "name": "stdout",
     "output_type": "stream",
     "text": [
      "Table successfully created in SQLite!\n"
     ]
    }
   ],
   "source": [
    "# Create/connect to SQLite DB (creates if not exists)\n",
    "conn = sqlite3.connect(\"bursa_palmai_database.db\")  \n",
    "\n",
    "# Write DataFrame to SQLite (creates a table named 'mth_prod_data')\n",
    "df.to_sql(\n",
    "    name=\"universal_mill_list\",   # Table name\n",
    "    con=conn,            # SQLite connection\n",
    "    if_exists=\"replace\", # Overwrite if table exists\n",
    "    index=False          # Don't write DataFrame index\n",
    ")\n",
    "\n",
    "# Confirm\n",
    "print(\"Table successfully created in SQLite!\")"
   ]
  },
  {
   "cell_type": "code",
   "execution_count": 34,
   "id": "d73b4065",
   "metadata": {},
   "outputs": [
    {
     "name": "stdout",
     "output_type": "stream",
     "text": [
      "                       ITEMS     MONTH_YEAR      VALUE\n",
      "0  CRUDE PALM OIL PRODUCTION   October 2024  1797348.0\n",
      "1  CRUDE PALM OIL PRODUCTION  November 2024  1621294.0\n",
      "2  CRUDE PALM OIL PRODUCTION  December 2024  1486786.0\n",
      "3  CRUDE PALM OIL PRODUCTION   January 2025  1237078.0\n",
      "4  CRUDE PALM OIL PRODUCTION  February 2025  1188029.0\n",
      "5  CRUDE PALM OIL PRODUCTION     March 2025  1387193.0\n",
      "6  CRUDE PALM OIL PRODUCTION     April 2025  1685962.0\n",
      "7      CRUDE PALM OIL STOCKS   October 2024   943472.0\n",
      "8      CRUDE PALM OIL STOCKS  November 2024   907494.0\n",
      "9      CRUDE PALM OIL STOCKS  December 2024   894321.0\n"
     ]
    }
   ],
   "source": [
    "query_result = pd.read_sql(\"SELECT * FROM mpob_stats limit 10\", conn)\n",
    "print(query_result)"
   ]
  },
  {
   "cell_type": "code",
   "execution_count": 39,
   "id": "6813a09a",
   "metadata": {},
   "outputs": [
    {
     "name": "stdout",
     "output_type": "stream",
     "text": [
      "Tables in database: ['company_mthly_prod', 'company_ext_rate', 'company_plt_area', 'mpob_stats', 'universal_mill_list']\n"
     ]
    }
   ],
   "source": [
    "import sqlite3\n",
    "\n",
    "def list_tables(db_path):\n",
    "    conn = sqlite3.connect(db_path)\n",
    "    cursor = conn.cursor()\n",
    "    \n",
    "    # Query SQLite's internal schema table\n",
    "    cursor.execute(\"SELECT name FROM sqlite_master WHERE type='table';\")\n",
    "    tables = cursor.fetchall()\n",
    "    \n",
    "    conn.close()\n",
    "    return [table[0] for table in tables]\n",
    "\n",
    "# Usage\n",
    "tables = list_tables(\"bursa_palmai_database.db\")\n",
    "print(\"Tables in database:\", tables)"
   ]
  },
  {
   "cell_type": "code",
   "execution_count": 30,
   "id": "6daccc98",
   "metadata": {},
   "outputs": [
    {
     "name": "stdout",
     "output_type": "stream",
     "text": [
      "[(0, 'Company', 'TEXT', 0, None, 0), (1, 'Category', 'TEXT', 0, None, 0), (2, 'Year', 'INTEGER', 0, None, 0), (3, 'Value', 'INTEGER', 0, None, 0)]\n"
     ]
    }
   ],
   "source": [
    "def get_table_schema(db_path, table_name):\n",
    "    conn = sqlite3.connect(db_path)\n",
    "    cursor = conn.cursor()\n",
    "    cursor.execute(f\"PRAGMA table_info({table_name});\")\n",
    "    schema = cursor.fetchall()\n",
    "    conn.close()\n",
    "    return schema\n",
    "\n",
    "# Usage\n",
    "print(get_table_schema(\"bursa_palmai_database.db\", \"company_plt_area\"))"
   ]
  }
 ],
 "metadata": {
  "kernelspec": {
   "display_name": "venv",
   "language": "python",
   "name": "python3"
  },
  "language_info": {
   "codemirror_mode": {
    "name": "ipython",
    "version": 3
   },
   "file_extension": ".py",
   "mimetype": "text/x-python",
   "name": "python",
   "nbconvert_exporter": "python",
   "pygments_lexer": "ipython3",
   "version": "3.13.3"
  }
 },
 "nbformat": 4,
 "nbformat_minor": 5
}
